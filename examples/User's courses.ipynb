{
 "cells": [
  {
   "cell_type": "code",
   "execution_count": 1,
   "metadata": {
    "collapsed": true
   },
   "outputs": [],
   "source": [
    "import json\n",
    "import requests"
   ]
  },
  {
   "cell_type": "code",
   "execution_count": 2,
   "metadata": {
    "collapsed": true
   },
   "outputs": [],
   "source": [
    "client_id = \"...\"\n",
    "client_secret = \"...\""
   ]
  },
  {
   "cell_type": "code",
   "execution_count": 3,
   "metadata": {
    "collapsed": false
   },
   "outputs": [],
   "source": [
    "class StepicAPI(object):\n",
    "    def __init__(self, client_id, client_secret):\n",
    "        self.api_url = 'https://stepic.org/api/'\n",
    "        \n",
    "        self.client_id = client_id\n",
    "        self.client_secret = client_secret\n",
    "        \n",
    "        try:\n",
    "            auth = requests.auth.HTTPBasicAuth(client_id, client_secret)\n",
    "            resp = requests.post('https://stepic.org/oauth2/token/',\n",
    "                         data={'grant_type': 'client_credentials'},\n",
    "                         auth=auth\n",
    "                         )\n",
    "            self.token = json.loads(resp.text)['access_token']\n",
    "        except:\n",
    "            print(\"Error while obtaining token\")\n",
    "      \n",
    "    def get(self, url):\n",
    "        try:\n",
    "            resp = json.loads(requests.get(url, headers={'Authorization': 'Bearer ' + self.token}).text)\n",
    "        except:\n",
    "            print(\"Error while getting data\")\n",
    "            resp = None\n",
    "        return resp\n",
    "     \n",
    "    # announcements\n",
    "    def announcements(self, page = 1):\n",
    "        url = self.api_url + 'announcements?page=%d'%page \n",
    "        return self.get(url)\n",
    "    def announcements_pk(self, pk):\n",
    "        url = self.api_url + 'announcements/%d'%pk \n",
    "        return self.get(url)\n",
    "    \n",
    "    # \n",
    "    def course_subscriptions(self, page = 1):\n",
    "        url = self.api_url + 'course-subscriptions?page=%d'%page\n",
    "        return self.get(url)\n",
    "    def course(self, course_id):\n",
    "        url = self.api_url + 'courses/%d'%course_id\n",
    "        return self.get(url)\n",
    "    \n",
    "        "
   ]
  },
  {
   "cell_type": "code",
   "execution_count": 4,
   "metadata": {
    "collapsed": false
   },
   "outputs": [],
   "source": [
    "sapi = StepicAPI(client_id, client_secret)"
   ]
  },
  {
   "cell_type": "markdown",
   "metadata": {},
   "source": [
    "### Пример получения списка курсов"
   ]
  },
  {
   "cell_type": "code",
   "execution_count": 5,
   "metadata": {
    "collapsed": false
   },
   "outputs": [
    {
     "name": "stdout",
     "output_type": "stream",
     "text": [
      "pages: 2\n",
      "course ids: [7, 67, 73, 75, 76, 83, 91, 95, 103, 104, 106, 114, 129, 144, 146, 150, 156, 187, 218, 326, 439, 501]\n"
     ]
    }
   ],
   "source": [
    "has_next = True\n",
    "page = 0\n",
    "course_ids = []\n",
    "while has_next:\n",
    "    page += 1\n",
    "    courses = sapi.course_subscriptions(page)\n",
    "    has_next = courses['meta']['has_next']\n",
    "    for el in courses['course-subscriptions']:\n",
    "        course_ids.append(el['course'])\n",
    "print(\"pages: %d\"%page)    \n",
    "print(\"course ids: %s\"%str(course_ids))"
   ]
  },
  {
   "cell_type": "markdown",
   "metadata": {},
   "source": [
    "Для каждого курса получим информацию о нем"
   ]
  },
  {
   "cell_type": "code",
   "execution_count": 6,
   "metadata": {
    "collapsed": false
   },
   "outputs": [],
   "source": [
    "data = []\n",
    "for course_id in course_ids:\n",
    "    course_data = sapi.course(course_id)\n",
    "    summary = (course_data['courses'][0]['summary'])\n",
    "    title = (course_data['courses'][0]['title'])\n",
    "    data.append((course_id, title, summary))"
   ]
  },
  {
   "cell_type": "code",
   "execution_count": 7,
   "metadata": {
    "collapsed": true
   },
   "outputs": [],
   "source": [
    "import pandas as pd"
   ]
  },
  {
   "cell_type": "code",
   "execution_count": 8,
   "metadata": {
    "collapsed": false
   },
   "outputs": [
    {
     "data": {
      "text/html": [
       "<div>\n",
       "<table border=\"1\" class=\"dataframe\">\n",
       "  <thead>\n",
       "    <tr style=\"text-align: right;\">\n",
       "      <th></th>\n",
       "      <th>id</th>\n",
       "      <th>title</th>\n",
       "      <th>summary</th>\n",
       "    </tr>\n",
       "  </thead>\n",
       "  <tbody>\n",
       "    <tr>\n",
       "      <th>0</th>\n",
       "      <td>7</td>\n",
       "      <td>Программирование на языке C++</td>\n",
       "      <td>Данный базовый курс повествует об основных сре...</td>\n",
       "    </tr>\n",
       "    <tr>\n",
       "      <th>1</th>\n",
       "      <td>67</td>\n",
       "      <td>Программирование на Python</td>\n",
       "      <td>Курс посвящен базовым понятиям и элементам язы...</td>\n",
       "    </tr>\n",
       "    <tr>\n",
       "      <th>2</th>\n",
       "      <td>73</td>\n",
       "      <td>Введение в Linux</td>\n",
       "      <td>Курс знакомит слушателей с операционной систем...</td>\n",
       "    </tr>\n",
       "    <tr>\n",
       "      <th>3</th>\n",
       "      <td>75</td>\n",
       "      <td>Функциональное программирование на языке Haskell</td>\n",
       "      <td>&lt;br&gt;Курс знакомит слушателей с  языком Haskell...</td>\n",
       "    </tr>\n",
       "    <tr>\n",
       "      <th>4</th>\n",
       "      <td>76</td>\n",
       "      <td>Основы статистики</td>\n",
       "      <td>Курс знакомит слушателей с основными понятиями...</td>\n",
       "    </tr>\n",
       "    <tr>\n",
       "      <th>5</th>\n",
       "      <td>83</td>\n",
       "      <td>Дискретные структуры</td>\n",
       "      <td>Это базовый курс дискретной математики и комби...</td>\n",
       "    </tr>\n",
       "    <tr>\n",
       "      <th>6</th>\n",
       "      <td>91</td>\n",
       "      <td>Ликбез по дискретной математике</td>\n",
       "      <td>Это обзорный курс по дискретной математике. Ст...</td>\n",
       "    </tr>\n",
       "    <tr>\n",
       "      <th>7</th>\n",
       "      <td>95</td>\n",
       "      <td>Введение в математический анализ</td>\n",
       "      <td>Курс знакомит слушателей с базовыми понятиями ...</td>\n",
       "    </tr>\n",
       "    <tr>\n",
       "      <th>8</th>\n",
       "      <td>103</td>\n",
       "      <td>ФП CSC 2016</td>\n",
       "      <td></td>\n",
       "    </tr>\n",
       "    <tr>\n",
       "      <th>9</th>\n",
       "      <td>104</td>\n",
       "      <td>Введение в теоретическую информатику</td>\n",
       "      <td>Теоретическая информатика — раздел математики,...</td>\n",
       "    </tr>\n",
       "    <tr>\n",
       "      <th>10</th>\n",
       "      <td>106</td>\n",
       "      <td>Онлайн-тест для поступающих в CS центр</td>\n",
       "      <td>Онлайн-тест предназначен для проверки знаний п...</td>\n",
       "    </tr>\n",
       "    <tr>\n",
       "      <th>11</th>\n",
       "      <td>114</td>\n",
       "      <td>Экзамен CS центра</td>\n",
       "      <td></td>\n",
       "    </tr>\n",
       "    <tr>\n",
       "      <th>12</th>\n",
       "      <td>129</td>\n",
       "      <td>Анализ данных в R</td>\n",
       "      <td>В рамках трёхнедельного курса рассматриваются ...</td>\n",
       "    </tr>\n",
       "    <tr>\n",
       "      <th>13</th>\n",
       "      <td>144</td>\n",
       "      <td>Подготовительная программа по программированию...</td>\n",
       "      <td>В курсе разбираются основные принципы ООП и об...</td>\n",
       "    </tr>\n",
       "    <tr>\n",
       "      <th>14</th>\n",
       "      <td>146</td>\n",
       "      <td>Разработка веб сервиса на Java (часть 1)</td>\n",
       "      <td>Изучение Java, на примере разработки веб-серве...</td>\n",
       "    </tr>\n",
       "    <tr>\n",
       "      <th>15</th>\n",
       "      <td>150</td>\n",
       "      <td>Hadoop. Система для обработки больших объемов ...</td>\n",
       "      <td>Курс посвящен методам обработки больших объемо...</td>\n",
       "    </tr>\n",
       "    <tr>\n",
       "      <th>16</th>\n",
       "      <td>156</td>\n",
       "      <td>Алгоритмы и структуры данных</td>\n",
       "      <td>Курс представляет собой изучение основных алго...</td>\n",
       "    </tr>\n",
       "    <tr>\n",
       "      <th>17</th>\n",
       "      <td>187</td>\n",
       "      <td>Java. Базовый курс</td>\n",
       "      <td>Этот вводный курс познакомит слушателей с базо...</td>\n",
       "    </tr>\n",
       "    <tr>\n",
       "      <th>18</th>\n",
       "      <td>218</td>\n",
       "      <td>Алгоритмы: теория и практика. Методы (для CS ц...</td>\n",
       "      <td>В курсе будут разобраны основные алгоритмическ...</td>\n",
       "    </tr>\n",
       "    <tr>\n",
       "      <th>19</th>\n",
       "      <td>326</td>\n",
       "      <td>Математическая статистика</td>\n",
       "      <td>Курс знакомит слушателей с основными разделами...</td>\n",
       "    </tr>\n",
       "    <tr>\n",
       "      <th>20</th>\n",
       "      <td>439</td>\n",
       "      <td>Тренажёр ЕГЭ 2016 / Математика. Базовый уровень</td>\n",
       "      <td>Бесплатный тренажер по задачам ЕГЭ 2016. Матем...</td>\n",
       "    </tr>\n",
       "    <tr>\n",
       "      <th>21</th>\n",
       "      <td>501</td>\n",
       "      <td>Организационный курс CS центра</td>\n",
       "      <td></td>\n",
       "    </tr>\n",
       "  </tbody>\n",
       "</table>\n",
       "</div>"
      ],
      "text/plain": [
       "     id                                              title  \\\n",
       "0     7                      Программирование на языке C++   \n",
       "1    67                         Программирование на Python   \n",
       "2    73                                   Введение в Linux   \n",
       "3    75   Функциональное программирование на языке Haskell   \n",
       "4    76                                  Основы статистики   \n",
       "5    83                               Дискретные структуры   \n",
       "6    91                   Ликбез по дискретной математике    \n",
       "7    95                   Введение в математический анализ   \n",
       "8   103                                        ФП CSC 2016   \n",
       "9   104               Введение в теоретическую информатику   \n",
       "10  106             Онлайн-тест для поступающих в CS центр   \n",
       "11  114                                  Экзамен CS центра   \n",
       "12  129                                  Анализ данных в R   \n",
       "13  144  Подготовительная программа по программированию...   \n",
       "14  146           Разработка веб сервиса на Java (часть 1)   \n",
       "15  150  Hadoop. Система для обработки больших объемов ...   \n",
       "16  156                       Алгоритмы и структуры данных   \n",
       "17  187                                 Java. Базовый курс   \n",
       "18  218  Алгоритмы: теория и практика. Методы (для CS ц...   \n",
       "19  326                          Математическая статистика   \n",
       "20  439    Тренажёр ЕГЭ 2016 / Математика. Базовый уровень   \n",
       "21  501                     Организационный курс CS центра   \n",
       "\n",
       "                                              summary  \n",
       "0   Данный базовый курс повествует об основных сре...  \n",
       "1   Курс посвящен базовым понятиям и элементам язы...  \n",
       "2   Курс знакомит слушателей с операционной систем...  \n",
       "3   <br>Курс знакомит слушателей с  языком Haskell...  \n",
       "4   Курс знакомит слушателей с основными понятиями...  \n",
       "5   Это базовый курс дискретной математики и комби...  \n",
       "6   Это обзорный курс по дискретной математике. Ст...  \n",
       "7   Курс знакомит слушателей с базовыми понятиями ...  \n",
       "8                                                      \n",
       "9   Теоретическая информатика — раздел математики,...  \n",
       "10  Онлайн-тест предназначен для проверки знаний п...  \n",
       "11                                                     \n",
       "12  В рамках трёхнедельного курса рассматриваются ...  \n",
       "13  В курсе разбираются основные принципы ООП и об...  \n",
       "14  Изучение Java, на примере разработки веб-серве...  \n",
       "15  Курс посвящен методам обработки больших объемо...  \n",
       "16  Курс представляет собой изучение основных алго...  \n",
       "17  Этот вводный курс познакомит слушателей с базо...  \n",
       "18  В курсе будут разобраны основные алгоритмическ...  \n",
       "19  Курс знакомит слушателей с основными разделами...  \n",
       "20  Бесплатный тренажер по задачам ЕГЭ 2016. Матем...  \n",
       "21                                                     "
      ]
     },
     "execution_count": 8,
     "metadata": {},
     "output_type": "execute_result"
    }
   ],
   "source": [
    "df = pd.DataFrame(data, columns=['id','title','summary'])\n",
    "df"
   ]
  }
 ],
 "metadata": {
  "kernelspec": {
   "display_name": "Python 3",
   "language": "python",
   "name": "python3"
  },
  "language_info": {
   "codemirror_mode": {
    "name": "ipython",
    "version": 3
   },
   "file_extension": ".py",
   "mimetype": "text/x-python",
   "name": "python",
   "nbconvert_exporter": "python",
   "pygments_lexer": "ipython3",
   "version": "3.5.1"
  }
 },
 "nbformat": 4,
 "nbformat_minor": 0
}
